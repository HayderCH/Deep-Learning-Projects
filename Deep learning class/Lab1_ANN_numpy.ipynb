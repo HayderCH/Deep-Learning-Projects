{
 "cells": [
  {
   "cell_type": "markdown",
   "metadata": {
    "id": "eBsKa_uQmoxh"
   },
   "source": [
    "#Implementing a neural network from scratch using NumPy\n",
    "https://studymachinelearning.com/implementation-of-neural-network-from-scratch-using-numpy/"
   ]
  },
  {
   "cell_type": "markdown",
   "metadata": {
    "id": "ejlPAsi9FanT"
   },
   "source": [
    "Here we will explain how to develop the neural network from scratch using the NumPy library. \n",
    "\n",
    "*  The neural network consists mainly of **4 steps** (iteratively): \n",
    "1.   Forward Propagation\n",
    "2.   Cost Function\n",
    "3.   Back Propagation\n",
    "4.   Gradient Descent\n",
    "\n",
    " "
   ]
  },
  {
   "cell_type": "code",
   "execution_count": null,
   "metadata": {
    "colab": {
     "base_uri": "https://localhost:8080/",
     "height": 206
    },
    "id": "5XOPikwunR84",
    "outputId": "a4c1ca6f-b2cf-46da-d336-d4c86284cc7e"
   },
   "outputs": [],
   "source": [
    "# Import required packages\n",
    "import pandas as pd\n",
    "import numpy as np\n",
    "import matplotlib.pyplot as plt\n",
    "np.random.seed(2) \n",
    "\n",
    "# Read the data\n",
    "df = pd.read_csv(\"dataset.csv\")\n",
    "df.shape\n",
    "df.head()"
   ]
  },
  {
   "cell_type": "code",
   "execution_count": null,
   "metadata": {
    "colab": {
     "base_uri": "https://localhost:8080/"
    },
    "id": "dzGbs9aQrtd8",
    "outputId": "f4cfa048-de46-4920-b7c8-7ccf2180a81d"
   },
   "outputs": [],
   "source": [
    "# Let's print the distribution of the target variable in class 0 & 1\n",
    "df['target'].value_counts()"
   ]
  },
  {
   "cell_type": "code",
   "execution_count": null,
   "metadata": {},
   "outputs": [],
   "source": [
    "# Let's plot the distribution of the target variable  (à :red , 1 : blue)\n",
    "plt.scatter(df['x1'], df['x2'], c=df['target'].values.reshape(200,), cmap=plt.cm.Spectral)\n",
    "plt.title('Distribution of the target variable')"
   ]
  },
  {
   "cell_type": "code",
   "execution_count": null,
   "metadata": {
    "colab": {
     "base_uri": "https://localhost:8080/"
    },
    "id": "PgUaxp6Ir6EG",
    "outputId": "b097f727-2265-47d2-a3a7-35e66ff2d3f4"
   },
   "outputs": [],
   "source": [
    "# Let's prepare the data for model training\n",
    "X = df[['x1','x2']].values.T\n",
    "Y = df['target'].values.reshape(1,-1)\n",
    "X.shape,Y.shape"
   ]
  },
  {
   "cell_type": "code",
   "execution_count": null,
   "metadata": {
    "colab": {
     "base_uri": "https://localhost:8080/"
    },
    "id": "tmF3ZuouoqbF",
    "outputId": "15e47ab8-5776-45c4-c0f2-f29e3673fe3a"
   },
   "outputs": [],
   "source": [
    "m = X.shape[1]             # m - Number of training samples\n",
    "m"
   ]
  },
  {
   "cell_type": "code",
   "execution_count": null,
   "metadata": {
    "id": "OLEjM7PttWQ1"
   },
   "outputs": [],
   "source": [
    "# Set the hyperparameters\n",
    "n_x = 2                    # No. of neurons in first layer  (x1 and x2)\n",
    "n_h = 10                   # No. of neurons in hidden layer\n",
    "n_y = 1                    # No. of neurons in output layer  (target)\n",
    "num_of_iters = 1000\n",
    "learning_rate = 0.3"
   ]
  },
  {
   "cell_type": "markdown",
   "metadata": {
    "id": "354t3gYkiRjU"
   },
   "source": [
    "# 1. Forward Propagation"
   ]
  },
  {
   "cell_type": "code",
   "execution_count": null,
   "metadata": {
    "id": "GPIvEJ8QoxEa"
   },
   "outputs": [],
   "source": [
    "# Define the sigmoid activation function\n",
    "def sigmoid(z):\n",
    "    return 1/(1 + np.exp(-z))"
   ]
  },
  {
   "cell_type": "code",
   "execution_count": null,
   "metadata": {
    "id": "Ta9JgF-XtkJM"
   },
   "outputs": [],
   "source": [
    "# Initialize weigth & bias parameters\n",
    "def initialize_parameters(n_x, n_h, n_y):\n",
    "    W1 = np.random.randn(n_h, n_x)\n",
    "    b1 = np.zeros((n_h, 1))\n",
    "    W2 = np.random.randn(n_y, n_h)\n",
    "    b2 = np.zeros((n_y, 1))\n",
    "\n",
    "    parameters = {\n",
    "        \"W1\": W1,\n",
    "        \"b1\" : b1,\n",
    "        \"W2\": W2,\n",
    "        \"b2\" : b2\n",
    "      }\n",
    "    return parameters"
   ]
  },
  {
   "cell_type": "code",
   "execution_count": null,
   "metadata": {
    "id": "vryh4kIst6Cx"
   },
   "outputs": [],
   "source": [
    "# Function for forward propagation\n",
    "def forward_prop(X, parameters):\n",
    "    W1 = parameters[\"W1\"]\n",
    "    b1 = parameters[\"b1\"]\n",
    "    W2 = parameters[\"W2\"]\n",
    "    b2 = parameters[\"b2\"]\n",
    "\n",
    "    Z1 = np.dot(W1, X) + b1\n",
    "    A1 = np.tanh(Z1)\n",
    "    Z2 = np.dot(W2, A1) + b2\n",
    "    A2 = sigmoid(Z2)\n",
    "\n",
    "    cache = {\n",
    "      \"A1\": A1,\n",
    "      \"A2\": A2\n",
    "     }\n",
    "    return A2, cache"
   ]
  },
  {
   "cell_type": "markdown",
   "metadata": {
    "id": "dUvjBemkPunf"
   },
   "source": [
    "# 2. Cost Function"
   ]
  },
  {
   "cell_type": "markdown",
   "metadata": {
    "id": "jMKIyVp2I3ln"
   },
   "source": [
    "Objective: Adjust the parameters w and b in order to obtain the best model (minimum error between Actual and Predicted values) \n",
    "\n",
    "> **Cost function**: Quantify the errors made by the model\n",
    "\n",
    "\n",
    "\n",
    "\n",
    "\n"
   ]
  },
  {
   "cell_type": "code",
   "execution_count": null,
   "metadata": {
    "id": "vLTsM2KFo1-h"
   },
   "outputs": [],
   "source": [
    "# Function to calculate the loss\n",
    "def calculate_cost(A2, Y):\n",
    "    cost = -np.sum(np.multiply(Y, np.log(A2)) +  np.multiply(1-Y, np.log(1-A2)))/m\n",
    "    cost = np.squeeze(cost)\n",
    "    return cost"
   ]
  },
  {
   "cell_type": "markdown",
   "metadata": {
    "id": "YJHlx6Y0f3Vv"
   },
   "source": [
    "# 3. Backword Propagation"
   ]
  },
  {
   "cell_type": "code",
   "execution_count": null,
   "metadata": {
    "id": "gUB5ogu2uObi"
   },
   "outputs": [],
   "source": [
    "# Function for back-propagation\n",
    "def backward_prop(X, Y, cache, parameters):\n",
    "    A1 = cache[\"A1\"]\n",
    "    A2 = cache[\"A2\"]\n",
    "\n",
    "    W2 = parameters[\"W2\"]\n",
    "\n",
    "    dZ2 = A2 - Y\n",
    "    dW2 = np.dot(dZ2, A1.T)/m\n",
    "    db2 = np.sum(dZ2, axis=1, keepdims=True)/m\n",
    "    dZ1 = np.multiply(np.dot(W2.T, dZ2), 1-np.power(A1, 2))\n",
    "    dW1 = np.dot(dZ1, X.T)/m\n",
    "    db1 = np.sum(dZ1, axis=1, keepdims=True)/m\n",
    "\n",
    "    grads = {\n",
    "    \"dW1\": dW1,\n",
    "    \"db1\": db1,\n",
    "    \"dW2\": dW2,\n",
    "    \"db2\": db2\n",
    "    }\n",
    "\n",
    "    return grads"
   ]
  },
  {
   "cell_type": "code",
   "execution_count": null,
   "metadata": {
    "id": "110kXzyxuVzR"
   },
   "outputs": [],
   "source": [
    "# Function to update the weigth & bias parameters\n",
    "def update_parameters(parameters, grads, learning_rate):\n",
    "    W1 = parameters[\"W1\"]\n",
    "    b1 = parameters[\"b1\"]\n",
    "    W2 = parameters[\"W2\"]\n",
    "    b2 = parameters[\"b2\"]\n",
    "\n",
    "    dW1 = grads[\"dW1\"]\n",
    "    db1 = grads[\"db1\"]\n",
    "    dW2 = grads[\"dW2\"]\n",
    "    db2 = grads[\"db2\"]\n",
    "\n",
    "    W1 = W1 - learning_rate*dW1\n",
    "    b1 = b1 - learning_rate*db1\n",
    "    W2 = W2 - learning_rate*dW2\n",
    "    b2 = b2 - learning_rate*db2\n",
    "\n",
    "    new_parameters = {\n",
    "    \"W1\": W1,\n",
    "    \"W2\": W2,\n",
    "    \"b1\" : b1,\n",
    "    \"b2\" : b2\n",
    "    }\n",
    "\n",
    "    return new_parameters"
   ]
  },
  {
   "cell_type": "code",
   "execution_count": null,
   "metadata": {
    "id": "RQJ5TUcUudY0"
   },
   "outputs": [],
   "source": [
    "# Define the Model\n",
    "def model(X, Y, n_x, n_h, n_y, num_of_iters, learning_rate,display_loss=False):\n",
    "    parameters = initialize_parameters(n_x, n_h, n_y)\n",
    "\n",
    "    for i in range(0, num_of_iters+1):\n",
    "        a2, cache = forward_prop(X, parameters)\n",
    "\n",
    "        cost = calculate_cost(a2, Y)\n",
    "\n",
    "        grads = backward_prop(X, Y, cache, parameters)\n",
    "\n",
    "        parameters = update_parameters(parameters, grads, learning_rate)\n",
    "        \n",
    "        if display_loss:\n",
    "            if(i%100 == 0):\n",
    "                print('Cost after iteration# {:d}: {:f}'.format(i, cost))\n",
    "\n",
    "    return parameters"
   ]
  },
  {
   "cell_type": "code",
   "execution_count": null,
   "metadata": {
    "colab": {
     "base_uri": "https://localhost:8080/"
    },
    "id": "kbkYNhWnuiGE",
    "outputId": "e6df1e0e-b98d-4549-8753-69a04166ed5a"
   },
   "outputs": [],
   "source": [
    "trained_parameters = model(X, Y, n_x, n_h, n_y, num_of_iters, learning_rate,display_loss=True)\n"
   ]
  },
  {
   "cell_type": "code",
   "execution_count": null,
   "metadata": {
    "id": "JrOyOSSbuoeA"
   },
   "outputs": [],
   "source": [
    "# Define function for prediction\n",
    "def predict(parameters, X):\n",
    "    A2, cache = forward_prop(X,parameters)\n",
    "    predictions = A2 > 0.5\n",
    "    \n",
    "    return predictions"
   ]
  },
  {
   "cell_type": "code",
   "execution_count": null,
   "metadata": {
    "id": "KfjFY1A5us2_"
   },
   "outputs": [],
   "source": [
    "# Define function to plot the decision boundary\n",
    "def plot_decision_boundary(model, X, y):\n",
    "    # Set min and max values and give it some padding\n",
    "    x_min, x_max = X[0, :].min() - 1, X[0, :].max() + 1\n",
    "    y_min, y_max = X[1, :].min() - 1, X[1, :].max() + 1\n",
    "    h = 0.01\n",
    "    # Generate a grid of points with distance h between them\n",
    "    xx, yy = np.meshgrid(np.arange(x_min, x_max, h), np.arange(y_min, y_max, h))\n",
    "    # Predict the function value for the whole grid\n",
    "    Z = model(np.c_[xx.ravel(), yy.ravel()])\n",
    "    Z = Z.reshape(xx.shape)\n",
    "    # Plot the contour and training examples\n",
    "    plt.contourf(xx, yy, Z, cmap=plt.cm.Spectral)\n",
    "    plt.ylabel('x2')\n",
    "    plt.xlabel('x1')\n",
    "    plt.scatter(X[0, :], X[1, :], c=y.reshape(200,), cmap=plt.cm.Spectral)"
   ]
  },
  {
   "cell_type": "code",
   "execution_count": null,
   "metadata": {
    "colab": {
     "base_uri": "https://localhost:8080/",
     "height": 279
    },
    "id": "9xE3G93Buxsd",
    "outputId": "769cc6f4-4150-46f3-a38b-e6c89a38f715"
   },
   "outputs": [],
   "source": [
    "# Plot the decision boundary\n",
    "plot_decision_boundary(lambda x: predict(trained_parameters, x.T), X, Y)"
   ]
  },
  {
   "cell_type": "code",
   "execution_count": null,
   "metadata": {
    "colab": {
     "base_uri": "https://localhost:8080/",
     "height": 621
    },
    "id": "STJyVsbBu4NY",
    "outputId": "05e5286f-9619-4de7-8d41-49c284f6515a"
   },
   "outputs": [],
   "source": [
    "# Let's see how our Neural Network work with different hidden layer sizes\n",
    "plt.figure(figsize=(15, 10))\n",
    "hidden_layer_sizes = [1, 2, 3, 5, 10,20]\n",
    "for i, n_h in enumerate(hidden_layer_sizes):\n",
    "    plt.subplot(2, 3, i+1)\n",
    "    plt.title('Hidden Layer of size %d' % n_h)\n",
    "    \n",
    "    parameters = model(X, Y, n_x, n_h, n_y, num_of_iters, learning_rate)\n",
    "    plot_decision_boundary(lambda x: predict(parameters, x.T), X, Y)"
   ]
  },
  {
   "cell_type": "markdown",
   "metadata": {
    "id": "691E4Ew2nBo6"
   },
   "source": [
    "From the above results, we can say that the model gives **better performance with the more hidden units**. But, sometimes the more hidden units **overfit** the data."
   ]
  },
  {
   "cell_type": "markdown",
   "metadata": {
    "id": "orsA8IMPvRt2"
   },
   "source": [
    "Overfitted model works best on training data but reduces the performance on test data. However, the model architecture (**number of hidden layer + number of neuron in each hidden layer**) is also **dependent on the training dataset**."
   ]
  },
  {
   "cell_type": "markdown",
   "metadata": {
    "id": "ikydB1-Avcn-"
   },
   "source": [
    "To find suitable hidden units is a tedious task. In the above example, the three red isolated data-points might be an outlier. If they are the outlier, model overfit with the hidden layer size 10 and 20. **In that case, the best hidden layer size seems to be 3.**"
   ]
  },
  {
   "cell_type": "code",
   "execution_count": null,
   "metadata": {
    "id": "9RDaZw3cvQCp"
   },
   "outputs": [],
   "source": []
  }
 ],
 "metadata": {
  "colab": {
   "provenance": []
  },
  "kernelspec": {
   "display_name": "Python 3",
   "language": "python",
   "name": "python3"
  },
  "language_info": {
   "codemirror_mode": {
    "name": "ipython",
    "version": 3
   },
   "file_extension": ".py",
   "mimetype": "text/x-python",
   "name": "python",
   "nbconvert_exporter": "python",
   "pygments_lexer": "ipython3",
   "version": "3.8.8"
  }
 },
 "nbformat": 4,
 "nbformat_minor": 4
}
